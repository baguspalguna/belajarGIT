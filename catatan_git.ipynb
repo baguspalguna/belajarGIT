{
 "cells": [
  {
   "cell_type": "markdown",
   "id": "5f180b19",
   "metadata": {},
   "source": [
    "# How to Clone and Accessing Repository"
   ]
  },
  {
   "cell_type": "markdown",
   "id": "eaa9db64",
   "metadata": {},
   "source": [
    "## Clone Using SSH\n",
    "1. Harus ada repository Github. Copy URL SSH.\n",
    "2. Buka terminal (cmd, powershell, bash) dengan working directory di folder yang mana kita ingin menyimpan repository tsb.\n",
    "3. Dalam terminal gunakan command `git clone <url ssh>`\n",
    "4. Repository akan terbentuk di folder tersebut.\n"
   ]
  },
  {
   "cell_type": "markdown",
   "id": "bd4a2e62",
   "metadata": {},
   "source": [
    "Selanjutnya buka working directory di repository atau langsung buka vscode di repository"
   ]
  },
  {
   "cell_type": "markdown",
   "id": "69d50f55",
   "metadata": {},
   "source": [
    "## Track and Commit File(s) Changes\n",
    "\n",
    "1. Cek status files dalam repository dengan `git status`\n",
    "2. Track perubahan gunakan `git add <nama file>`untuk 1 file saja atau `git add .` untuk semua file.\n",
    "3. Kalau cek `git status`lagi file akan berubah jadi tracked dan siap commit.\n",
    "4. Untuk menyimpan perubahan lakukan dengan `get commit -m \"commit message\"`. Commit message biasanya diatur dalam commit message convention, bisa lihat di internet.\n",
    "(kalau gak jadi commit bisa `git reset --mixed`atau `git revert`)\n",
    "5. Menyimpan perubahan ke repository remote lakukan `git push`\n"
   ]
  }
 ],
 "metadata": {
  "language_info": {
   "name": "python"
  }
 },
 "nbformat": 4,
 "nbformat_minor": 5
}
